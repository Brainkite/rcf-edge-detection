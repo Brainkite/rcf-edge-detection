{
 "cells": [
  {
   "cell_type": "code",
   "execution_count": 1,
   "metadata": {
    "Collapsed": "false"
   },
   "outputs": [
    {
     "data": {
      "text/plain": [
       "'/Users/antoninsumner/Datasets/HED-BSDS_PASCAL'"
      ]
     },
     "execution_count": 1,
     "metadata": {},
     "output_type": "execute_result"
    }
   ],
   "source": [
    "from pathlib import Path \n",
    "data_root = str(Path().home().absolute()/'Datasets/HED-BSDS_PASCAL')\n",
    "data_root"
   ]
  },
  {
   "cell_type": "code",
   "execution_count": 4,
   "metadata": {
    "Collapsed": "false"
   },
   "outputs": [],
   "source": [
    "import torch\n",
    "import models\n",
    "import os\n",
    "from data_loader import BSDS_RCFLoader\n",
    "from torch.utils.data import DataLoader\n",
    "\n",
    "model = models.resnet101(pretrained=True)#.cuda()\n",
    "\n",
    "init_lr = 1e-2\n",
    "batch_size = 3\n",
    "\n",
    "def adjust_lr(init_lr, now_it, total_it):\n",
    "    power = 0.9\n",
    "    lr = init_lr * (1 - float(now_it) / total_it) ** power\n",
    "    return lr\n",
    "\n",
    "def make_optim(model, lr):\n",
    "    optim = torch.optim.SGD(params=model.parameters(), lr=lr, momentum=0.9, weight_decay=5e-4)\n",
    "    return optim\n",
    "\n",
    "def save_ckpt(model, name):\n",
    "    print('saving checkpoint ... {}'.format(name), flush=True)\n",
    "    if not os.path.isdir('ckpt'):\n",
    "        os.mkdir('ckpt')\n",
    "    torch.save(model.state_dict(), os.path.join('ckpt', '{}.pth'.format(name)))\n",
    "\n",
    "\n",
    "train_dataset = BSDS_RCFLoader(root=data_root, split=\"train\")\n",
    "# test_dataset = BSDS_RCFLoader(split=\"test\")\n",
    "train_loader = DataLoader(\n",
    "    train_dataset, batch_size=batch_size,\n",
    "    num_workers=0, drop_last=True, shuffle=True)"
   ]
  },
  {
   "cell_type": "code",
   "execution_count": 7,
   "metadata": {
    "Collapsed": "false"
   },
   "outputs": [],
   "source": [
    "b = next(iter(train_loader))"
   ]
  },
  {
   "cell_type": "code",
   "execution_count": 9,
   "metadata": {
    "Collapsed": "false"
   },
   "outputs": [],
   "source": [
    "img, lab = b"
   ]
  },
  {
   "cell_type": "code",
   "execution_count": 11,
   "metadata": {
    "Collapsed": "false"
   },
   "outputs": [
    {
     "data": {
      "text/plain": [
       "(tensor(0.0125), tensor(255.))"
      ]
     },
     "execution_count": 11,
     "metadata": {},
     "output_type": "execute_result"
    }
   ],
   "source": [
    "img[0].min(), img[0].max()"
   ]
  },
  {
   "cell_type": "code",
   "execution_count": null,
   "metadata": {
    "Collapsed": "false"
   },
   "outputs": [],
   "source": [
    "model.train()\n",
    "total_epoch = 100\n",
    "each_epoch_iter = len(train_loader)\n",
    "total_iter = total_epoch * each_epoch_iter\n",
    "\n",
    "print_cnt = 10\n",
    "ckpt_cnt = 10000\n",
    "cnt = 0\n",
    "\n",
    "for epoch in range(total_epoch):\n",
    "    avg_loss = 0.\n",
    "    for i, (image, label) in enumerate(train_loader):\n",
    "        cnt += 1\n",
    "        optim = make_optim(model, adjust_lr(init_lr, cnt, total_iter))\n",
    "        \n",
    "        image, label = image.cuda(), label.cuda()\n",
    "        outs = model(image, label.size()[2:])\n",
    "        # total_loss = 0\n",
    "        #total_loss = cross_entropy_loss_RCF(outs[-1], label)\n",
    "        total_loss = crisp_loss(outs[-1], label)\n",
    "        # for each in outs:\n",
    "        #     loss = cross_entropy_loss_RCF(each, label)\n",
    "        #     total_loss += loss\n",
    "        optim.zero_grad()\n",
    "        total_loss.backward()\n",
    "        optim.step()\n",
    "\n",
    "        avg_loss += float(total_loss)\n",
    "        if cnt % print_cnt == 0:\n",
    "            print('[{}/{}] loss:{} avg_loss: {}'.format(cnt, total_iter, float(total_loss), avg_loss / print_cnt), flush=True)\n",
    "            avg_loss = 0\n",
    "\n",
    "        if cnt % ckpt_cnt == 0:\n",
    "            save_ckpt(model, 'only-final-lr-{}-iter-{}'.format(init_lr, cnt))"
   ]
  }
 ],
 "metadata": {
  "kernelspec": {
   "display_name": "Fastai_2",
   "language": "python",
   "name": "fastai_2"
  },
  "language_info": {
   "codemirror_mode": {
    "name": "ipython",
    "version": 3
   },
   "file_extension": ".py",
   "mimetype": "text/x-python",
   "name": "python",
   "nbconvert_exporter": "python",
   "pygments_lexer": "ipython3",
   "version": "3.7.7"
  }
 },
 "nbformat": 4,
 "nbformat_minor": 4
}
